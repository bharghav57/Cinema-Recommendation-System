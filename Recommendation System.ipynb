{
 "cells": [
  {
   "cell_type": "markdown",
   "id": "ea8eeff2",
   "metadata": {},
   "source": [
    "## Imports "
   ]
  },
  {
   "cell_type": "code",
   "execution_count": 1,
   "id": "c6e5a2f5",
   "metadata": {},
   "outputs": [],
   "source": [
    "from pyspark.ml.evaluation import RegressionEvaluator\n",
    "from pyspark.ml.recommendation import ALS\n",
    "from pyspark.sql import Row, SparkSession\n",
    "from pyspark import SparkContext\n",
    "from pyspark.sql.functions import explode\n",
    "from pyspark.ml.tuning import ParamGridBuilder, CrossValidator\n",
    "from pyspark.sql.functions import col\n",
    "import time"
   ]
  },
  {
   "cell_type": "markdown",
   "id": "01a5e367",
   "metadata": {},
   "source": [
    "## Initialize Spark context / Session and Import the Dataset "
   ]
  },
  {
   "cell_type": "code",
   "execution_count": 2,
   "id": "824f6299",
   "metadata": {},
   "outputs": [],
   "source": [
    "spark = SparkSession.builder.appName('Spark_ALS_recommender').getOrCreate()\n",
    "\n",
    "user_col = ['user_id', 'gender', 'age', 'occupation', 'zip']\n",
    "user_df = spark.read.format(\"csv\").option(\"delimiter\", \"::\").option(\"inferSchema\", \"true\").load(\"/Users/aditcam/Downloads/ml-1m/users.dat\")\n",
    "col_alias = user_df.columns\n",
    "user_df = user_df.select([col(col_alias[i]).alias(user_col[i]) for i in range(len(user_col))])\n",
    "\n",
    "rating_col = ['user_id', 'movie_id', 'rating', 'timestamp']\n",
    "rating_df = spark.read.format(\"csv\").option(\"delimiter\", \"::\").option(\"inferSchema\", \"true\").load(\"/Users/aditcam/Downloads/ml-1m/ratings.dat\")\n",
    "rating_df = rating_df.select([col(col_alias[i]).alias(rating_col[i]) for i in range(len(rating_col))])\n",
    "\n",
    "movie_col = ['movie_id', 'title', 'genres']\n",
    "movie_df = spark.read.format(\"csv\").option(\"delimiter\", \"::\").option(\"inferSchema\", \"true\").load(\"/Users/aditcam/Downloads/ml-1m/movies.dat\")\n",
    "movie_df = movie_df.select([col(col_alias[i]).alias(movie_col[i]) for i in range(len(movie_col))])"
   ]
  },
  {
   "cell_type": "markdown",
   "id": "4f3cc2c3",
   "metadata": {},
   "source": [
    "## Model Training, crossval and testing"
   ]
  },
  {
   "cell_type": "code",
   "execution_count": 3,
   "id": "9352bce7",
   "metadata": {},
   "outputs": [
    {
     "name": "stdout",
     "output_type": "stream",
     "text": [
      "Total number of models to be tested:  1\n",
      "Time taken for training 92.97s\n",
      "**Best Model**\n",
      "  Rank: 100\n",
      "  MaxIter: 5\n",
      "  RegParam: 0.15\n",
      "Root Mean Squared Error is 0.9240788661316319\n"
     ]
    }
   ],
   "source": [
    "(train, test) = rating_df.randomSplit([0.8, 0.2])\n",
    "\n",
    "als = ALS(userCol=\"user_id\", itemCol=\"movie_id\", ratingCol=\"rating\",coldStartStrategy=\"drop\",nonnegative=True,implicitPrefs=False)\n",
    "\n",
    "# Add hyperparameters and their respective values to param_grid\n",
    "param_grid = ParamGridBuilder() \\\n",
    "            .addGrid(als.rank, [100]) \\\n",
    "            .addGrid(als.regParam, [.15]) \\\n",
    "            .addGrid(als.maxIter, [5]) \\\n",
    "            .build()\n",
    "\n",
    "# Define evaluator as RMSE and print length of evaluator\n",
    "evaluator = RegressionEvaluator(\n",
    "           metricName=\"rmse\", \n",
    "           labelCol=\"rating\", \n",
    "           predictionCol=\"prediction\") \n",
    "print (\"Total number of models to be tested: \", len(param_grid))\n",
    "\n",
    "# Build cross validation using CrossValidator\n",
    "start = time.time()\n",
    "cv = CrossValidator(estimator=als, estimatorParamMaps=param_grid, evaluator=evaluator, numFolds=5)\n",
    "cvModel = cv.fit(train)\n",
    "best_model = cvModel.bestModel\n",
    "end = time.time()\n",
    "print('Time taken for training {}s'.format(round(end-start,2)))\n",
    "\n",
    "print(\"**Best Model**\")\n",
    "# Print \"Rank\"\n",
    "print(\"  Rank:\", best_model._java_obj.parent().getRank())\n",
    "# Print \"MaxIter\"\n",
    "print(\"  MaxIter:\", best_model._java_obj.parent().getMaxIter())\n",
    "# Print \"RegParam\"\n",
    "print(\"  RegParam:\", best_model._java_obj.parent().getRegParam())\n",
    "\n",
    "# View the predictions\n",
    "test_predictions = best_model.transform(test)\n",
    "RMSE = evaluator.evaluate(test_predictions)\n",
    "print('Root Mean Squared Error is {}'.format(RMSE))\n",
    "\n",
    "movieSubSetRecs = best_model.recommendForAllUsers(3)"
   ]
  },
  {
   "cell_type": "markdown",
   "id": "5e260f7b",
   "metadata": {},
   "source": [
    "## Outputs "
   ]
  },
  {
   "cell_type": "markdown",
   "id": "2820730c",
   "metadata": {},
   "source": [
    "### Movie recommendations"
   ]
  },
  {
   "cell_type": "code",
   "execution_count": 4,
   "id": "73742f1f",
   "metadata": {},
   "outputs": [],
   "source": [
    "final_df = movieSubSetRecs \\\n",
    ".withColumn('recommendation',explode(movieSubSetRecs.recommendations)) \\\n",
    ".select(movieSubSetRecs.user_id,col('recommendation.movie_id'),col('recommendation.rating'))"
   ]
  },
  {
   "cell_type": "code",
   "execution_count": 5,
   "id": "5cdca189",
   "metadata": {},
   "outputs": [
    {
     "name": "stdout",
     "output_type": "stream",
     "text": [
      "+-------+--------+---------+\n",
      "|user_id|movie_id|rating   |\n",
      "+-------+--------+---------+\n",
      "|12     |3382    |5.854477 |\n",
      "|12     |557     |4.7550344|\n",
      "|12     |572     |4.5924554|\n",
      "|26     |3382    |5.189043 |\n",
      "|26     |572     |4.3411207|\n",
      "|26     |1851    |3.9044237|\n",
      "|27     |3382    |6.050927 |\n",
      "|27     |557     |5.383823 |\n",
      "|27     |3542    |5.0529943|\n",
      "|28     |3382    |5.7740617|\n",
      "+-------+--------+---------+\n",
      "only showing top 10 rows\n",
      "\n"
     ]
    }
   ],
   "source": [
    "final_df.show(10,False)"
   ]
  },
  {
   "cell_type": "markdown",
   "id": "391a6cf0",
   "metadata": {},
   "source": [
    "### Schemas of all the datasets involved"
   ]
  },
  {
   "cell_type": "code",
   "execution_count": 6,
   "id": "87e599ba",
   "metadata": {},
   "outputs": [
    {
     "name": "stdout",
     "output_type": "stream",
     "text": [
      "root\n",
      " |-- user_id: integer (nullable = true)\n",
      " |-- gender: string (nullable = true)\n",
      " |-- age: integer (nullable = true)\n",
      " |-- occupation: integer (nullable = true)\n",
      " |-- zip: string (nullable = true)\n",
      "\n"
     ]
    }
   ],
   "source": [
    "user_df.printSchema()"
   ]
  },
  {
   "cell_type": "code",
   "execution_count": 7,
   "id": "4120e8fd",
   "metadata": {},
   "outputs": [
    {
     "name": "stdout",
     "output_type": "stream",
     "text": [
      "root\n",
      " |-- user_id: integer (nullable = true)\n",
      " |-- movie_id: integer (nullable = true)\n",
      " |-- rating: integer (nullable = true)\n",
      " |-- timestamp: integer (nullable = true)\n",
      "\n"
     ]
    }
   ],
   "source": [
    "rating_df.printSchema()"
   ]
  },
  {
   "cell_type": "code",
   "execution_count": 8,
   "id": "22e41448",
   "metadata": {},
   "outputs": [
    {
     "name": "stdout",
     "output_type": "stream",
     "text": [
      "root\n",
      " |-- movie_id: integer (nullable = true)\n",
      " |-- title: string (nullable = true)\n",
      " |-- genres: string (nullable = true)\n",
      "\n"
     ]
    }
   ],
   "source": [
    "movie_df.printSchema()"
   ]
  },
  {
   "cell_type": "code",
   "execution_count": 9,
   "id": "99303047",
   "metadata": {},
   "outputs": [
    {
     "name": "stdout",
     "output_type": "stream",
     "text": [
      "root\n",
      " |-- user_id: integer (nullable = false)\n",
      " |-- movie_id: integer (nullable = true)\n",
      " |-- rating: float (nullable = true)\n",
      "\n"
     ]
    }
   ],
   "source": [
    "final_df.printSchema()"
   ]
  },
  {
   "cell_type": "markdown",
   "id": "cc05087e",
   "metadata": {},
   "source": [
    "### Summary Stats "
   ]
  },
  {
   "cell_type": "code",
   "execution_count": 10,
   "id": "f3cd8c9b",
   "metadata": {},
   "outputs": [
    {
     "name": "stdout",
     "output_type": "stream",
     "text": [
      "+-------+------------------+------+------------------+-----------------+-----------------+\n",
      "|summary|           user_id|gender|               age|       occupation|              zip|\n",
      "+-------+------------------+------+------------------+-----------------+-----------------+\n",
      "|  count|              6040|  6040|              6040|             6040|             6040|\n",
      "|   mean|            3020.5|  null|30.639238410596025|8.146854304635761|87986.22464010713|\n",
      "| stddev|1743.7421445462246|  null|12.895961726906837|6.329511491401687|2499493.295731326|\n",
      "|    min|                 1|     F|                 1|                0|            00231|\n",
      "|    max|              6040|     M|                56|               20|            99945|\n",
      "+-------+------------------+------+------------------+-----------------+-----------------+\n",
      "\n"
     ]
    }
   ],
   "source": [
    "user_df.describe().show()"
   ]
  },
  {
   "cell_type": "code",
   "execution_count": 11,
   "id": "553aebf4",
   "metadata": {},
   "outputs": [
    {
     "name": "stdout",
     "output_type": "stream",
     "text": [
      "+-------+------------------+------------------+------------------+--------------------+\n",
      "|summary|           user_id|          movie_id|            rating|           timestamp|\n",
      "+-------+------------------+------------------+------------------+--------------------+\n",
      "|  count|           1000209|           1000209|           1000209|             1000209|\n",
      "|   mean| 3024.512347919285|1865.5398981612843| 3.581564453029317| 9.722436954046655E8|\n",
      "| stddev|1728.4126948999715|1096.0406894572482|1.1171018453732606|1.2152558939916052E7|\n",
      "|    min|                 1|                 1|                 1|           956703932|\n",
      "|    max|              6040|              3952|                 5|          1046454590|\n",
      "+-------+------------------+------------------+------------------+--------------------+\n",
      "\n"
     ]
    }
   ],
   "source": [
    "rating_df.describe().show()"
   ]
  },
  {
   "cell_type": "code",
   "execution_count": 12,
   "id": "1c25c8f1",
   "metadata": {},
   "outputs": [
    {
     "name": "stdout",
     "output_type": "stream",
     "text": [
      "+-------+------------------+--------------------+-------+\n",
      "|summary|          movie_id|               title| genres|\n",
      "+-------+------------------+--------------------+-------+\n",
      "|  count|              3883|                3883|   3883|\n",
      "|   mean|1986.0494463044038|                null|   null|\n",
      "| stddev|1146.7783494728876|                null|   null|\n",
      "|    min|                 1|$1,000,000 Duck (...| Action|\n",
      "|    max|              3952|     eXistenZ (1999)|Western|\n",
      "+-------+------------------+--------------------+-------+\n",
      "\n"
     ]
    }
   ],
   "source": [
    "movie_df.describe().show()"
   ]
  },
  {
   "cell_type": "code",
   "execution_count": 13,
   "id": "90578093",
   "metadata": {},
   "outputs": [
    {
     "name": "stdout",
     "output_type": "stream",
     "text": [
      "+-------+------------------+------------------+------------------+\n",
      "|summary|           user_id|          movie_id|            rating|\n",
      "+-------+------------------+------------------+------------------+\n",
      "|  count|             18120|             18120|             18120|\n",
      "|   mean|            3020.5| 1773.130518763797| 5.268932872767217|\n",
      "| stddev|1743.6459035689982|1338.7664796694971|0.8100983781211466|\n",
      "|    min|                 1|                37|         1.3400229|\n",
      "|    max|              6040|              3542|          8.630114|\n",
      "+-------+------------------+------------------+------------------+\n",
      "\n"
     ]
    }
   ],
   "source": [
    "final_df.describe().show()"
   ]
  },
  {
   "cell_type": "code",
   "execution_count": 14,
   "id": "90fa7d23",
   "metadata": {},
   "outputs": [],
   "source": [
    "from pyspark.sql.functions import *"
   ]
  },
  {
   "cell_type": "markdown",
   "id": "0b3319d3",
   "metadata": {},
   "source": [
    "### Most rated movies"
   ]
  },
  {
   "cell_type": "code",
   "execution_count": 15,
   "id": "b4be9778",
   "metadata": {},
   "outputs": [],
   "source": [
    "most_rated = rating_df \\\n",
    ".groupBy(\"movie_id\") \\\n",
    ".agg(count(\"user_id\")) \\\n",
    ".withColumnRenamed(\"count(user_id)\", \"rating_cnt\") \\\n",
    ".sort(desc(\"rating_cnt\"))"
   ]
  },
  {
   "cell_type": "code",
   "execution_count": 16,
   "id": "c134c790",
   "metadata": {},
   "outputs": [
    {
     "name": "stdout",
     "output_type": "stream",
     "text": [
      "+--------+----------+\n",
      "|movie_id|rating_cnt|\n",
      "+--------+----------+\n",
      "|2858    |3428      |\n",
      "|260     |2991      |\n",
      "|1196    |2990      |\n",
      "|1210    |2883      |\n",
      "|480     |2672      |\n",
      "|2028    |2653      |\n",
      "|589     |2649      |\n",
      "|2571    |2590      |\n",
      "|1270    |2583      |\n",
      "|593     |2578      |\n",
      "+--------+----------+\n",
      "only showing top 10 rows\n",
      "\n"
     ]
    }
   ],
   "source": [
    "most_rated.show(10,False)"
   ]
  },
  {
   "cell_type": "code",
   "execution_count": 17,
   "id": "585e494d",
   "metadata": {},
   "outputs": [],
   "source": [
    "most_rated_movies =  most_rated.join(movie_df,most_rated.movie_id == movie_df.movie_id)"
   ]
  },
  {
   "cell_type": "code",
   "execution_count": 18,
   "id": "515f2a43",
   "metadata": {
    "scrolled": false
   },
   "outputs": [
    {
     "name": "stdout",
     "output_type": "stream",
     "text": [
      "+--------+----------+--------+------------------------------------------+--------------------------------+\n",
      "|movie_id|rating_cnt|movie_id|title                                     |genres                          |\n",
      "+--------+----------+--------+------------------------------------------+--------------------------------+\n",
      "|1580    |2538      |1580    |Men in Black (1997)                       |Action|Adventure|Comedy|Sci-Fi  |\n",
      "|2366    |756       |2366    |King Kong (1933)                          |Action|Adventure|Horror         |\n",
      "|1088    |687       |1088    |Dirty Dancing (1987)                      |Musical|Romance                 |\n",
      "|1959    |626       |1959    |Out of Africa (1985)                      |Drama|Romance                   |\n",
      "|3175    |1728      |3175    |Galaxy Quest (1999)                       |Adventure|Comedy|Sci-Fi         |\n",
      "|1645    |826       |1645    |Devil's Advocate, The (1997)              |Crime|Horror|Mystery|Thriller   |\n",
      "|496     |37        |496     |What Happened Was... (1994)               |Comedy|Drama|Romance            |\n",
      "|2142    |201       |2142    |American Tail: Fievel Goes West, An (1991)|Animation|Children's|Comedy     |\n",
      "|1591    |475       |1591    |Spawn (1997)                              |Action|Adventure|Sci-Fi|Thriller|\n",
      "|2122    |233       |2122    |Children of the Corn (1984)               |Horror|Thriller                 |\n",
      "|833     |78        |833     |High School High (1996)                   |Comedy                          |\n",
      "|463     |47        |463     |Guilty as Sin (1993)                      |Crime|Drama|Thriller            |\n",
      "|471     |599       |471     |Hudsucker Proxy, The (1994)               |Comedy|Romance                  |\n",
      "|1342    |262       |1342    |Candyman (1992)                           |Horror                          |\n",
      "|148     |23        |148     |Awfully Big Adventure, An (1995)          |Drama                           |\n",
      "|3918    |167       |3918    |Hellbound: Hellraiser II (1988)           |Horror                          |\n",
      "|3794    |121       |3794    |Chuck & Buck (2000)                       |Comedy|Drama                    |\n",
      "|1238    |351       |1238    |Local Hero (1983)                         |Comedy                          |\n",
      "|2866    |199       |2866    |Buddy Holly Story, The (1978)             |Drama                           |\n",
      "|3749    |22        |3749    |Time Regained (Le Temps Retrouv�) (1999)  |Drama                           |\n",
      "|2659    |46        |2659    |It Came from Hollywood (1982)             |Comedy|Documentary              |\n",
      "|1829    |37        |1829    |Chinese Box (1997)                        |Drama|Romance                   |\n",
      "|1721    |1546      |1721    |Titanic (1997)                            |Drama|Romance                   |\n",
      "|1084    |686       |1084    |Bonnie and Clyde (1967)                   |Crime|Drama                     |\n",
      "|1127    |1715      |1127    |Abyss, The (1989)                         |Action|Adventure|Sci-Fi|Thriller|\n",
      "+--------+----------+--------+------------------------------------------+--------------------------------+\n",
      "only showing top 25 rows\n",
      "\n"
     ]
    }
   ],
   "source": [
    "most_rated_movies.show(25,False)"
   ]
  },
  {
   "cell_type": "markdown",
   "id": "21ae744f",
   "metadata": {},
   "source": [
    "### Highest rated movies"
   ]
  },
  {
   "cell_type": "code",
   "execution_count": 19,
   "id": "d11cad62",
   "metadata": {},
   "outputs": [],
   "source": [
    "high_rated = rating_df \\\n",
    ".groupBy(\"movie_id\") \\\n",
    ".agg(avg(col(\"rating\")),count(col('movie_id'))) \\\n",
    ".withColumnRenamed(\"avg(rating)\", \"avg_rating\") \\\n",
    ".withColumnRenamed(\"count(movie_id)\", \"rating_cnt\") \\\n",
    ".sort(desc(\"avg_rating\"),desc(\"rating_cnt\"))"
   ]
  },
  {
   "cell_type": "code",
   "execution_count": 20,
   "id": "a2968d9d",
   "metadata": {},
   "outputs": [
    {
     "name": "stdout",
     "output_type": "stream",
     "text": [
      "+--------+----------+----------+\n",
      "|movie_id|avg_rating|rating_cnt|\n",
      "+--------+----------+----------+\n",
      "|787     |5.0       |3         |\n",
      "|3233    |5.0       |2         |\n",
      "|3280    |5.0       |1         |\n",
      "|3881    |5.0       |1         |\n",
      "|3607    |5.0       |1         |\n",
      "|989     |5.0       |1         |\n",
      "|3172    |5.0       |1         |\n",
      "|3382    |5.0       |1         |\n",
      "|3656    |5.0       |1         |\n",
      "|1830    |5.0       |1         |\n",
      "+--------+----------+----------+\n",
      "only showing top 10 rows\n",
      "\n"
     ]
    }
   ],
   "source": [
    "high_rated.show(10,False)"
   ]
  },
  {
   "cell_type": "code",
   "execution_count": 21,
   "id": "eb829082",
   "metadata": {},
   "outputs": [
    {
     "name": "stdout",
     "output_type": "stream",
     "text": [
      "+--------+----------+----------+--------+-----------------------------------------+--------------------+\n",
      "|movie_id|avg_rating|rating_cnt|movie_id|title                                    |genres              |\n",
      "+--------+----------+----------+--------+-----------------------------------------+--------------------+\n",
      "|787     |5.0       |3         |787     |Gate of Heavenly Peace, The (1995)       |Documentary         |\n",
      "|3233    |5.0       |2         |3233    |Smashing Time (1967)                     |Comedy              |\n",
      "|3280    |5.0       |1         |3280    |Baby, The (1973)                         |Horror              |\n",
      "|3881    |5.0       |1         |3881    |Bittersweet Motel (2000)                 |Documentary         |\n",
      "|3607    |5.0       |1         |3607    |One Little Indian (1973)                 |Comedy|Drama|Western|\n",
      "|989     |5.0       |1         |989     |Schlafes Bruder (Brother of Sleep) (1995)|Drama               |\n",
      "|3172    |5.0       |1         |3172    |Ulysses (Ulisse) (1954)                  |Adventure           |\n",
      "|3382    |5.0       |1         |3382    |Song of Freedom (1936)                   |Drama               |\n",
      "|3656    |5.0       |1         |3656    |Lured (1947)                             |Crime               |\n",
      "|1830    |5.0       |1         |1830    |Follow the Bitch (1998)                  |Comedy              |\n",
      "+--------+----------+----------+--------+-----------------------------------------+--------------------+\n",
      "only showing top 10 rows\n",
      "\n"
     ]
    }
   ],
   "source": [
    "high_rated.join(movie_df,high_rated.movie_id == movie_df.movie_id).sort(desc(\"avg_rating\"),desc(\"rating_cnt\")).show(10,False)"
   ]
  },
  {
   "cell_type": "code",
   "execution_count": 22,
   "id": "3fe31b56",
   "metadata": {},
   "outputs": [],
   "source": [
    "high_rated = rating_df \\\n",
    ".groupBy(\"movie_id\") \\\n",
    ".agg(avg(col(\"rating\")),count(col('movie_id'))) \\\n",
    ".withColumnRenamed(\"avg(rating)\", \"avg_rating\") \\\n",
    ".withColumnRenamed(\"count(movie_id)\", \"rating_cnt\") \\\n",
    ".sort(desc('rating_cnt'),desc(\"avg_rating\"))"
   ]
  },
  {
   "cell_type": "code",
   "execution_count": 23,
   "id": "2ef2c2e7",
   "metadata": {},
   "outputs": [
    {
     "name": "stdout",
     "output_type": "stream",
     "text": [
      "+--------+------------------+----------+--------+-----------------------------------------------------+-----------------------------------+\n",
      "|movie_id|avg_rating        |rating_cnt|movie_id|title                                                |genres                             |\n",
      "+--------+------------------+----------+--------+-----------------------------------------------------+-----------------------------------+\n",
      "|2858    |4.3173862310385065|3428      |2858    |American Beauty (1999)                               |Comedy|Drama                       |\n",
      "|260     |4.453694416583082 |2991      |260     |Star Wars: Episode IV - A New Hope (1977)            |Action|Adventure|Fantasy|Sci-Fi    |\n",
      "|1196    |4.292976588628763 |2990      |1196    |Star Wars: Episode V - The Empire Strikes Back (1980)|Action|Adventure|Drama|Sci-Fi|War  |\n",
      "|1210    |4.022892819979188 |2883      |1210    |Star Wars: Episode VI - Return of the Jedi (1983)    |Action|Adventure|Romance|Sci-Fi|War|\n",
      "|480     |3.7638473053892216|2672      |480     |Jurassic Park (1993)                                 |Action|Adventure|Sci-Fi            |\n",
      "|2028    |4.337353938937053 |2653      |2028    |Saving Private Ryan (1998)                           |Action|Drama|War                   |\n",
      "|589     |4.058512646281616 |2649      |589     |Terminator 2: Judgment Day (1991)                    |Action|Sci-Fi|Thriller             |\n",
      "|2571    |4.315830115830116 |2590      |2571    |Matrix, The (1999)                                   |Action|Sci-Fi|Thriller             |\n",
      "|1270    |3.9903213317847466|2583      |1270    |Back to the Future (1985)                            |Comedy|Sci-Fi                      |\n",
      "|593     |4.3518231186966645|2578      |593     |Silence of the Lambs, The (1991)                     |Drama|Thriller                     |\n",
      "+--------+------------------+----------+--------+-----------------------------------------------------+-----------------------------------+\n",
      "only showing top 10 rows\n",
      "\n"
     ]
    }
   ],
   "source": [
    "high_rated.join(movie_df,most_rated.movie_id == movie_df.movie_id).sort(desc('rating_cnt'),desc(\"avg_rating\")).show(10,False)"
   ]
  },
  {
   "cell_type": "markdown",
   "id": "d104cf2b",
   "metadata": {},
   "source": [
    "### Movies with highly conflicting/polarising reviews "
   ]
  },
  {
   "cell_type": "code",
   "execution_count": 24,
   "id": "8c6cbbc7",
   "metadata": {},
   "outputs": [],
   "source": [
    "ratings_sd = rating_df\\\n",
    ".groupBy(\"movie_id\")\\\n",
    ".agg(count(\"user_id\").alias(\"rating_cnt\"), \n",
    "     avg(col(\"rating\")).alias(\"avg_rating\"),\n",
    "     stddev(col(\"rating\")).alias(\"sd_rating\")\n",
    "    )\\\n",
    ".where(\"rating_cnt > 50\")"
   ]
  },
  {
   "cell_type": "code",
   "execution_count": 25,
   "id": "5fbe10fc",
   "metadata": {},
   "outputs": [
    {
     "name": "stdout",
     "output_type": "stream",
     "text": [
      "+--------+----------+------------------+------------------+--------+----------------------------------------------+-----------------------+\n",
      "|movie_id|rating_cnt|avg_rating        |sd_rating         |movie_id|title                                         |genres                 |\n",
      "+--------+----------+------------------+------------------+--------+----------------------------------------------+-----------------------+\n",
      "|1241    |70        |3.357142857142857 |1.4649104863162303|1241    |Braindead (1992)                              |Comedy|Horror          |\n",
      "|1924    |249       |2.6345381526104417|1.4559983991255796|1924    |Plan 9 from Outer Space (1958)                |Horror|Sci-Fi          |\n",
      "|2507    |54        |2.9814814814814814|1.4074028099524012|2507    |Breakfast of Champions (1999)                 |Comedy                 |\n",
      "|2275    |71        |3.3661971830985915|1.4065097289767452|2275    |Six-String Samurai (1998)                     |Action|Adventure|Sci-Fi|\n",
      "|2362    |53        |2.849056603773585 |1.3922343195671307|2362    |Glen or Glenda (1953)                         |Drama                  |\n",
      "|3718    |61        |3.3114754098360657|1.3728435648506763|3718    |American Pimp (1999)                          |Documentary            |\n",
      "|2314    |104       |3.1346153846153846|1.3728129459672882|2314    |Beloved (1998)                                |Drama                  |\n",
      "|3864    |143       |2.6923076923076925|1.3646996740797475|3864    |Godzilla 2000 (Gojira ni-sen mireniamu) (1999)|Action|Adventure|Sci-Fi|\n",
      "|3340    |71        |2.8028169014084505|1.3587780046777236|3340    |Bride of the Monster (1956)                   |Horror|Sci-Fi          |\n",
      "|2459    |247       |3.222672064777328 |1.3324484407683033|2459    |Texas Chainsaw Massacre, The (1974)           |Horror                 |\n",
      "+--------+----------+------------------+------------------+--------+----------------------------------------------+-----------------------+\n",
      "only showing top 10 rows\n",
      "\n"
     ]
    }
   ],
   "source": [
    "ratings_sd.join(movie_df,ratings_sd.movie_id == movie_df.movie_id).sort(desc(\"sd_rating\")).show(10,False)"
   ]
  },
  {
   "cell_type": "code",
   "execution_count": 26,
   "id": "96fe99e5",
   "metadata": {},
   "outputs": [],
   "source": [
    "import numpy as np\n",
    "import pandas as pd\n",
    "import matplotlib.pyplot as plt"
   ]
  },
  {
   "cell_type": "markdown",
   "id": "f97eac70",
   "metadata": {},
   "source": [
    "### Visualizations"
   ]
  },
  {
   "cell_type": "markdown",
   "id": "a92f141a",
   "metadata": {},
   "source": [
    "ref : https://towardsdatascience.com/comprehensive-data-explorations-with-matplotlib-a388be12a355"
   ]
  },
  {
   "cell_type": "code",
   "execution_count": 27,
   "id": "d55ff381",
   "metadata": {},
   "outputs": [],
   "source": [
    "pd_movies_df = movie_df.toPandas()\n",
    "pd_ratings_df = rating_df.toPandas()\n",
    "pd_users_df = user_df.toPandas()"
   ]
  },
  {
   "cell_type": "markdown",
   "id": "90b285aa",
   "metadata": {},
   "source": [
    "We transform the generes column as it will be useful for visualizing the data"
   ]
  },
  {
   "cell_type": "code",
   "execution_count": 28,
   "id": "3d40c4a4",
   "metadata": {},
   "outputs": [
    {
     "data": {
      "text/html": [
       "<div>\n",
       "<style scoped>\n",
       "    .dataframe tbody tr th:only-of-type {\n",
       "        vertical-align: middle;\n",
       "    }\n",
       "\n",
       "    .dataframe tbody tr th {\n",
       "        vertical-align: top;\n",
       "    }\n",
       "\n",
       "    .dataframe thead th {\n",
       "        text-align: right;\n",
       "    }\n",
       "</style>\n",
       "<table border=\"1\" class=\"dataframe\">\n",
       "  <thead>\n",
       "    <tr style=\"text-align: right;\">\n",
       "      <th></th>\n",
       "      <th>movie_id</th>\n",
       "      <th>title</th>\n",
       "      <th>genres</th>\n",
       "    </tr>\n",
       "  </thead>\n",
       "  <tbody>\n",
       "    <tr>\n",
       "      <th>0</th>\n",
       "      <td>1</td>\n",
       "      <td>Toy Story (1995)</td>\n",
       "      <td>Animation|Children's|Comedy</td>\n",
       "    </tr>\n",
       "    <tr>\n",
       "      <th>1</th>\n",
       "      <td>2</td>\n",
       "      <td>Jumanji (1995)</td>\n",
       "      <td>Adventure|Children's|Fantasy</td>\n",
       "    </tr>\n",
       "    <tr>\n",
       "      <th>2</th>\n",
       "      <td>3</td>\n",
       "      <td>Grumpier Old Men (1995)</td>\n",
       "      <td>Comedy|Romance</td>\n",
       "    </tr>\n",
       "    <tr>\n",
       "      <th>3</th>\n",
       "      <td>4</td>\n",
       "      <td>Waiting to Exhale (1995)</td>\n",
       "      <td>Comedy|Drama</td>\n",
       "    </tr>\n",
       "    <tr>\n",
       "      <th>4</th>\n",
       "      <td>5</td>\n",
       "      <td>Father of the Bride Part II (1995)</td>\n",
       "      <td>Comedy</td>\n",
       "    </tr>\n",
       "  </tbody>\n",
       "</table>\n",
       "</div>"
      ],
      "text/plain": [
       "   movie_id                               title                        genres\n",
       "0         1                    Toy Story (1995)   Animation|Children's|Comedy\n",
       "1         2                      Jumanji (1995)  Adventure|Children's|Fantasy\n",
       "2         3             Grumpier Old Men (1995)                Comedy|Romance\n",
       "3         4            Waiting to Exhale (1995)                  Comedy|Drama\n",
       "4         5  Father of the Bride Part II (1995)                        Comedy"
      ]
     },
     "execution_count": 28,
     "metadata": {},
     "output_type": "execute_result"
    }
   ],
   "source": [
    "pd_movies_df.head()"
   ]
  },
  {
   "cell_type": "code",
   "execution_count": 29,
   "id": "b19d1b73",
   "metadata": {},
   "outputs": [],
   "source": [
    "# ref : https://stackoverflow.com/questions/62408093/one-hot-encoding-multiple-categorical-data-in-a-column\n",
    "\n",
    "### Join every string in every row, split the result, pull out the unique values.\n",
    "genres = np.unique('|'.join(pd_movies_df['genres']).split('|'))\n",
    "### Drop 'NA'\n",
    "genres = np.delete(genres, np.where(genres == 'NA'))\n",
    "\n",
    "for genre in genres:\n",
    "    pd_movies_df[genre] = pd_movies_df['genres'].str.contains(genre).astype('int')\n",
    "\n",
    "pd_movies_df.drop('genres', axis=1, inplace=True)"
   ]
  },
  {
   "cell_type": "markdown",
   "id": "b6b3498a",
   "metadata": {},
   "source": [
    "After one hot encoding the genres for easier visualization"
   ]
  },
  {
   "cell_type": "code",
   "execution_count": 30,
   "id": "f38725e5",
   "metadata": {},
   "outputs": [
    {
     "data": {
      "text/html": [
       "<div>\n",
       "<style scoped>\n",
       "    .dataframe tbody tr th:only-of-type {\n",
       "        vertical-align: middle;\n",
       "    }\n",
       "\n",
       "    .dataframe tbody tr th {\n",
       "        vertical-align: top;\n",
       "    }\n",
       "\n",
       "    .dataframe thead th {\n",
       "        text-align: right;\n",
       "    }\n",
       "</style>\n",
       "<table border=\"1\" class=\"dataframe\">\n",
       "  <thead>\n",
       "    <tr style=\"text-align: right;\">\n",
       "      <th></th>\n",
       "      <th>movie_id</th>\n",
       "      <th>title</th>\n",
       "      <th>Action</th>\n",
       "      <th>Adventure</th>\n",
       "      <th>Animation</th>\n",
       "      <th>Children's</th>\n",
       "      <th>Comedy</th>\n",
       "      <th>Crime</th>\n",
       "      <th>Documentary</th>\n",
       "      <th>Drama</th>\n",
       "      <th>Fantasy</th>\n",
       "      <th>Film-Noir</th>\n",
       "      <th>Horror</th>\n",
       "      <th>Musical</th>\n",
       "      <th>Mystery</th>\n",
       "      <th>Romance</th>\n",
       "      <th>Sci-Fi</th>\n",
       "      <th>Thriller</th>\n",
       "      <th>War</th>\n",
       "      <th>Western</th>\n",
       "    </tr>\n",
       "  </thead>\n",
       "  <tbody>\n",
       "    <tr>\n",
       "      <th>0</th>\n",
       "      <td>1</td>\n",
       "      <td>Toy Story (1995)</td>\n",
       "      <td>0</td>\n",
       "      <td>0</td>\n",
       "      <td>1</td>\n",
       "      <td>1</td>\n",
       "      <td>1</td>\n",
       "      <td>0</td>\n",
       "      <td>0</td>\n",
       "      <td>0</td>\n",
       "      <td>0</td>\n",
       "      <td>0</td>\n",
       "      <td>0</td>\n",
       "      <td>0</td>\n",
       "      <td>0</td>\n",
       "      <td>0</td>\n",
       "      <td>0</td>\n",
       "      <td>0</td>\n",
       "      <td>0</td>\n",
       "      <td>0</td>\n",
       "    </tr>\n",
       "    <tr>\n",
       "      <th>1</th>\n",
       "      <td>2</td>\n",
       "      <td>Jumanji (1995)</td>\n",
       "      <td>0</td>\n",
       "      <td>1</td>\n",
       "      <td>0</td>\n",
       "      <td>1</td>\n",
       "      <td>0</td>\n",
       "      <td>0</td>\n",
       "      <td>0</td>\n",
       "      <td>0</td>\n",
       "      <td>1</td>\n",
       "      <td>0</td>\n",
       "      <td>0</td>\n",
       "      <td>0</td>\n",
       "      <td>0</td>\n",
       "      <td>0</td>\n",
       "      <td>0</td>\n",
       "      <td>0</td>\n",
       "      <td>0</td>\n",
       "      <td>0</td>\n",
       "    </tr>\n",
       "    <tr>\n",
       "      <th>2</th>\n",
       "      <td>3</td>\n",
       "      <td>Grumpier Old Men (1995)</td>\n",
       "      <td>0</td>\n",
       "      <td>0</td>\n",
       "      <td>0</td>\n",
       "      <td>0</td>\n",
       "      <td>1</td>\n",
       "      <td>0</td>\n",
       "      <td>0</td>\n",
       "      <td>0</td>\n",
       "      <td>0</td>\n",
       "      <td>0</td>\n",
       "      <td>0</td>\n",
       "      <td>0</td>\n",
       "      <td>0</td>\n",
       "      <td>1</td>\n",
       "      <td>0</td>\n",
       "      <td>0</td>\n",
       "      <td>0</td>\n",
       "      <td>0</td>\n",
       "    </tr>\n",
       "    <tr>\n",
       "      <th>3</th>\n",
       "      <td>4</td>\n",
       "      <td>Waiting to Exhale (1995)</td>\n",
       "      <td>0</td>\n",
       "      <td>0</td>\n",
       "      <td>0</td>\n",
       "      <td>0</td>\n",
       "      <td>1</td>\n",
       "      <td>0</td>\n",
       "      <td>0</td>\n",
       "      <td>1</td>\n",
       "      <td>0</td>\n",
       "      <td>0</td>\n",
       "      <td>0</td>\n",
       "      <td>0</td>\n",
       "      <td>0</td>\n",
       "      <td>0</td>\n",
       "      <td>0</td>\n",
       "      <td>0</td>\n",
       "      <td>0</td>\n",
       "      <td>0</td>\n",
       "    </tr>\n",
       "    <tr>\n",
       "      <th>4</th>\n",
       "      <td>5</td>\n",
       "      <td>Father of the Bride Part II (1995)</td>\n",
       "      <td>0</td>\n",
       "      <td>0</td>\n",
       "      <td>0</td>\n",
       "      <td>0</td>\n",
       "      <td>1</td>\n",
       "      <td>0</td>\n",
       "      <td>0</td>\n",
       "      <td>0</td>\n",
       "      <td>0</td>\n",
       "      <td>0</td>\n",
       "      <td>0</td>\n",
       "      <td>0</td>\n",
       "      <td>0</td>\n",
       "      <td>0</td>\n",
       "      <td>0</td>\n",
       "      <td>0</td>\n",
       "      <td>0</td>\n",
       "      <td>0</td>\n",
       "    </tr>\n",
       "  </tbody>\n",
       "</table>\n",
       "</div>"
      ],
      "text/plain": [
       "   movie_id                               title  Action  Adventure  Animation  \\\n",
       "0         1                    Toy Story (1995)       0          0          1   \n",
       "1         2                      Jumanji (1995)       0          1          0   \n",
       "2         3             Grumpier Old Men (1995)       0          0          0   \n",
       "3         4            Waiting to Exhale (1995)       0          0          0   \n",
       "4         5  Father of the Bride Part II (1995)       0          0          0   \n",
       "\n",
       "   Children's  Comedy  Crime  Documentary  Drama  Fantasy  Film-Noir  Horror  \\\n",
       "0           1       1      0            0      0        0          0       0   \n",
       "1           1       0      0            0      0        1          0       0   \n",
       "2           0       1      0            0      0        0          0       0   \n",
       "3           0       1      0            0      1        0          0       0   \n",
       "4           0       1      0            0      0        0          0       0   \n",
       "\n",
       "   Musical  Mystery  Romance  Sci-Fi  Thriller  War  Western  \n",
       "0        0        0        0       0         0    0        0  \n",
       "1        0        0        0       0         0    0        0  \n",
       "2        0        0        1       0         0    0        0  \n",
       "3        0        0        0       0         0    0        0  \n",
       "4        0        0        0       0         0    0        0  "
      ]
     },
     "execution_count": 30,
     "metadata": {},
     "output_type": "execute_result"
    }
   ],
   "source": [
    "pd_movies_df.head()"
   ]
  },
  {
   "cell_type": "code",
   "execution_count": 31,
   "id": "4cc482de",
   "metadata": {},
   "outputs": [
    {
     "data": {
      "text/html": [
       "<div>\n",
       "<style scoped>\n",
       "    .dataframe tbody tr th:only-of-type {\n",
       "        vertical-align: middle;\n",
       "    }\n",
       "\n",
       "    .dataframe tbody tr th {\n",
       "        vertical-align: top;\n",
       "    }\n",
       "\n",
       "    .dataframe thead th {\n",
       "        text-align: right;\n",
       "    }\n",
       "</style>\n",
       "<table border=\"1\" class=\"dataframe\">\n",
       "  <thead>\n",
       "    <tr style=\"text-align: right;\">\n",
       "      <th></th>\n",
       "      <th>user_id</th>\n",
       "      <th>gender</th>\n",
       "      <th>age</th>\n",
       "      <th>occupation</th>\n",
       "      <th>zip</th>\n",
       "      <th>movie_id</th>\n",
       "      <th>rating</th>\n",
       "      <th>timestamp</th>\n",
       "      <th>title</th>\n",
       "      <th>Action</th>\n",
       "      <th>...</th>\n",
       "      <th>Fantasy</th>\n",
       "      <th>Film-Noir</th>\n",
       "      <th>Horror</th>\n",
       "      <th>Musical</th>\n",
       "      <th>Mystery</th>\n",
       "      <th>Romance</th>\n",
       "      <th>Sci-Fi</th>\n",
       "      <th>Thriller</th>\n",
       "      <th>War</th>\n",
       "      <th>Western</th>\n",
       "    </tr>\n",
       "  </thead>\n",
       "  <tbody>\n",
       "    <tr>\n",
       "      <th>0</th>\n",
       "      <td>1</td>\n",
       "      <td>F</td>\n",
       "      <td>1</td>\n",
       "      <td>10</td>\n",
       "      <td>48067</td>\n",
       "      <td>1193</td>\n",
       "      <td>5</td>\n",
       "      <td>978300760</td>\n",
       "      <td>One Flew Over the Cuckoo's Nest (1975)</td>\n",
       "      <td>0</td>\n",
       "      <td>...</td>\n",
       "      <td>0</td>\n",
       "      <td>0</td>\n",
       "      <td>0</td>\n",
       "      <td>0</td>\n",
       "      <td>0</td>\n",
       "      <td>0</td>\n",
       "      <td>0</td>\n",
       "      <td>0</td>\n",
       "      <td>0</td>\n",
       "      <td>0</td>\n",
       "    </tr>\n",
       "    <tr>\n",
       "      <th>1</th>\n",
       "      <td>1</td>\n",
       "      <td>F</td>\n",
       "      <td>1</td>\n",
       "      <td>10</td>\n",
       "      <td>48067</td>\n",
       "      <td>661</td>\n",
       "      <td>3</td>\n",
       "      <td>978302109</td>\n",
       "      <td>James and the Giant Peach (1996)</td>\n",
       "      <td>0</td>\n",
       "      <td>...</td>\n",
       "      <td>0</td>\n",
       "      <td>0</td>\n",
       "      <td>0</td>\n",
       "      <td>1</td>\n",
       "      <td>0</td>\n",
       "      <td>0</td>\n",
       "      <td>0</td>\n",
       "      <td>0</td>\n",
       "      <td>0</td>\n",
       "      <td>0</td>\n",
       "    </tr>\n",
       "    <tr>\n",
       "      <th>2</th>\n",
       "      <td>1</td>\n",
       "      <td>F</td>\n",
       "      <td>1</td>\n",
       "      <td>10</td>\n",
       "      <td>48067</td>\n",
       "      <td>914</td>\n",
       "      <td>3</td>\n",
       "      <td>978301968</td>\n",
       "      <td>My Fair Lady (1964)</td>\n",
       "      <td>0</td>\n",
       "      <td>...</td>\n",
       "      <td>0</td>\n",
       "      <td>0</td>\n",
       "      <td>0</td>\n",
       "      <td>1</td>\n",
       "      <td>0</td>\n",
       "      <td>1</td>\n",
       "      <td>0</td>\n",
       "      <td>0</td>\n",
       "      <td>0</td>\n",
       "      <td>0</td>\n",
       "    </tr>\n",
       "    <tr>\n",
       "      <th>3</th>\n",
       "      <td>1</td>\n",
       "      <td>F</td>\n",
       "      <td>1</td>\n",
       "      <td>10</td>\n",
       "      <td>48067</td>\n",
       "      <td>3408</td>\n",
       "      <td>4</td>\n",
       "      <td>978300275</td>\n",
       "      <td>Erin Brockovich (2000)</td>\n",
       "      <td>0</td>\n",
       "      <td>...</td>\n",
       "      <td>0</td>\n",
       "      <td>0</td>\n",
       "      <td>0</td>\n",
       "      <td>0</td>\n",
       "      <td>0</td>\n",
       "      <td>0</td>\n",
       "      <td>0</td>\n",
       "      <td>0</td>\n",
       "      <td>0</td>\n",
       "      <td>0</td>\n",
       "    </tr>\n",
       "    <tr>\n",
       "      <th>4</th>\n",
       "      <td>1</td>\n",
       "      <td>F</td>\n",
       "      <td>1</td>\n",
       "      <td>10</td>\n",
       "      <td>48067</td>\n",
       "      <td>2355</td>\n",
       "      <td>5</td>\n",
       "      <td>978824291</td>\n",
       "      <td>Bug's Life, A (1998)</td>\n",
       "      <td>0</td>\n",
       "      <td>...</td>\n",
       "      <td>0</td>\n",
       "      <td>0</td>\n",
       "      <td>0</td>\n",
       "      <td>0</td>\n",
       "      <td>0</td>\n",
       "      <td>0</td>\n",
       "      <td>0</td>\n",
       "      <td>0</td>\n",
       "      <td>0</td>\n",
       "      <td>0</td>\n",
       "    </tr>\n",
       "  </tbody>\n",
       "</table>\n",
       "<p>5 rows × 27 columns</p>\n",
       "</div>"
      ],
      "text/plain": [
       "   user_id gender  age  occupation    zip  movie_id  rating  timestamp  \\\n",
       "0        1      F    1          10  48067      1193       5  978300760   \n",
       "1        1      F    1          10  48067       661       3  978302109   \n",
       "2        1      F    1          10  48067       914       3  978301968   \n",
       "3        1      F    1          10  48067      3408       4  978300275   \n",
       "4        1      F    1          10  48067      2355       5  978824291   \n",
       "\n",
       "                                    title  Action  ...  Fantasy  Film-Noir  \\\n",
       "0  One Flew Over the Cuckoo's Nest (1975)       0  ...        0          0   \n",
       "1        James and the Giant Peach (1996)       0  ...        0          0   \n",
       "2                     My Fair Lady (1964)       0  ...        0          0   \n",
       "3                  Erin Brockovich (2000)       0  ...        0          0   \n",
       "4                    Bug's Life, A (1998)       0  ...        0          0   \n",
       "\n",
       "   Horror  Musical  Mystery  Romance  Sci-Fi  Thriller  War  Western  \n",
       "0       0        0        0        0       0         0    0        0  \n",
       "1       0        1        0        0       0         0    0        0  \n",
       "2       0        1        0        1       0         0    0        0  \n",
       "3       0        0        0        0       0         0    0        0  \n",
       "4       0        0        0        0       0         0    0        0  \n",
       "\n",
       "[5 rows x 27 columns]"
      ]
     },
     "execution_count": 31,
     "metadata": {},
     "output_type": "execute_result"
    }
   ],
   "source": [
    "df_merged = pd.merge(pd_users_df, pd_ratings_df, how=\"left\", on=\"user_id\")\n",
    "df_merged = pd.merge(df_merged, pd_movies_df, how=\"left\",on=\"movie_id\")\n",
    "df_merged.head()"
   ]
  },
  {
   "cell_type": "code",
   "execution_count": 32,
   "id": "5e9d79f8",
   "metadata": {},
   "outputs": [
    {
     "data": {
      "image/png": "[encoded data removed]",
      "text/plain": [
       "<Figure size 864x360 with 1 Axes>"
      ]
     },
     "metadata": {
      "needs_background": "light"
     },
     "output_type": "display_data"
    }
   ],
   "source": [
    "pd_ratings_df.user_id.value_counts().plot.box(figsize=(12, 5))\n",
    "plt.title(\"Number of Movies rated by a Single user\", fontsize=16)\n",
    "plt.show()\n"
   ]
  },
  {
   "cell_type": "code",
   "execution_count": 33,
   "id": "8ab9b39a",
   "metadata": {},
   "outputs": [],
   "source": [
    "movies_rated = pd_ratings_df.groupby('user_id').size().sort_values(ascending=False)"
   ]
  },
  {
   "cell_type": "code",
   "execution_count": 34,
   "id": "fa300882",
   "metadata": {},
   "outputs": [
    {
     "data": {
      "text/plain": [
       "user_id\n",
       "4169    2314\n",
       "1680    1850\n",
       "4277    1743\n",
       "1941    1595\n",
       "1181    1521\n",
       "        ... \n",
       "5725      20\n",
       "3407      20\n",
       "1664      20\n",
       "4419      20\n",
       "3021      20\n",
       "Length: 6040, dtype: int64"
      ]
     },
     "metadata": {},
     "output_type": "display_data"
    }
   ],
   "source": [
    "display(movies_rated)"
   ]
  },
  {
   "cell_type": "code",
   "execution_count": 35,
   "id": "29aef1c7",
   "metadata": {
    "scrolled": true
   },
   "outputs": [
    {
     "name": "stdout",
     "output_type": "stream",
     "text": [
      "Max user movie ratings 2314\n",
      "Min user ratings 20\n"
     ]
    }
   ],
   "source": [
    "print('Max user movie ratings {}\\nMin user ratings {}'.format(2314,20))"
   ]
  },
  {
   "cell_type": "markdown",
   "id": "570d2c2a",
   "metadata": {},
   "source": [
    "### Most Common genre in movies"
   ]
  },
  {
   "cell_type": "code",
   "execution_count": 37,
   "id": "f1d0370c",
   "metadata": {},
   "outputs": [
    {
     "data": {
      "image/png": "[encoded data removed]",
      "text/plain": [
       "<Figure size 864x720 with 1 Axes>"
      ]
     },
     "metadata": {
      "needs_background": "light"
     },
     "output_type": "display_data"
    }
   ],
   "source": [
    "# get the genre names in the dataframe and their counts\n",
    "temp = pd_movies_df[list(genres)]\n",
    "label= temp.sum().index\n",
    "label_counts= temp.sum().values\n",
    "# plot a bar chart\n",
    "plt.figure(figsize=(12, 10))\n",
    "plt.barh(y= label, width= label_counts)\n",
    "plt.title(\"Genre Breakdown\", fontsize=16)\n",
    "plt.ylabel(\"Genres\", fontsize=14)\n",
    "plt.xlabel(\"Counts\", fontsize=14)\n",
    "plt.show()"
   ]
  },
  {
   "cell_type": "markdown",
   "id": "32e93630",
   "metadata": {},
   "source": [
    "###  Genre Breakdown across genders"
   ]
  },
  {
   "cell_type": "code",
   "execution_count": 38,
   "id": "e6415cb9",
   "metadata": {},
   "outputs": [
    {
     "data": {
      "image/png": "[encoded data removed]",
      "text/plain": [
       "<Figure size 864x720 with 1 Axes>"
      ]
     },
     "metadata": {
      "needs_background": "light"
     },
     "output_type": "display_data"
    }
   ],
   "source": [
    "df_merged[list(genres)+[\"gender\"]].groupby(\"gender\").sum().T.plot(kind=\"barh\", figsize=(12,10), color=[\"pink\", \"blue\"])\n",
    "plt.xlabel(\"Counts\",fontsize=16)\n",
    "plt.ylabel(\"Genre\", fontsize=16)\n",
    "plt.title(\"Genre Breakdown across gender\", fontsize=16)\n",
    "plt.show()"
   ]
  },
  {
   "cell_type": "markdown",
   "id": "b7506cda",
   "metadata": {},
   "source": [
    "###  Genre Breakdown across genders within children ( i.e. age less than 18 )"
   ]
  },
  {
   "cell_type": "code",
   "execution_count": 39,
   "id": "293bd9b5",
   "metadata": {},
   "outputs": [
    {
     "data": {
      "image/png": "[encoded data removed]",
      "text/plain": [
       "<Figure size 864x720 with 1 Axes>"
      ]
     },
     "metadata": {
      "needs_background": "light"
     },
     "output_type": "display_data"
    }
   ],
   "source": [
    "df_merged[df_merged['age']<18][list(genres)+[\"gender\"]].groupby(\"gender\").sum().T.plot(kind=\"barh\", figsize=(12,10), color=[\"pink\", \"blue\"])\n",
    "plt.xlabel(\"Counts\",fontsize=16)\n",
    "plt.ylabel(\"Genre\", fontsize=16)\n",
    "plt.title(\"Genre Breakdown across gender in minors \", fontsize=16)\n",
    "plt.show()"
   ]
  }
 ],
 "metadata": {
  "kernelspec": {
   "display_name": "Python 3",
   "language": "python",
   "name": "python3"
  },
  "language_info": {
   "codemirror_mode": {
    "name": "ipython",
    "version": 3
   },
   "file_extension": ".py",
   "mimetype": "text/x-python",
   "name": "python",
   "nbconvert_exporter": "python",
   "pygments_lexer": "ipython3",
   "version": "3.8.8"
  }
 },
 "nbformat": 4,
 "nbformat_minor": 5
}
